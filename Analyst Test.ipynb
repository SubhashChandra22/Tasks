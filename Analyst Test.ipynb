{
 "cells": [
  {
   "cell_type": "code",
   "execution_count": 1,
   "id": "463b27fc",
   "metadata": {},
   "outputs": [],
   "source": [
    "## Importing Library\n",
    "import pandas as pd\n"
   ]
  },
  {
   "cell_type": "code",
   "execution_count": 2,
   "id": "e65199ad",
   "metadata": {},
   "outputs": [
    {
     "data": {
      "text/html": [
       "<div>\n",
       "<style scoped>\n",
       "    .dataframe tbody tr th:only-of-type {\n",
       "        vertical-align: middle;\n",
       "    }\n",
       "\n",
       "    .dataframe tbody tr th {\n",
       "        vertical-align: top;\n",
       "    }\n",
       "\n",
       "    .dataframe thead th {\n",
       "        text-align: right;\n",
       "    }\n",
       "</style>\n",
       "<table border=\"1\" class=\"dataframe\">\n",
       "  <thead>\n",
       "    <tr style=\"text-align: right;\">\n",
       "      <th></th>\n",
       "      <th>Address</th>\n",
       "      <th>customer_id</th>\n",
       "    </tr>\n",
       "  </thead>\n",
       "  <tbody>\n",
       "    <tr>\n",
       "      <th>0</th>\n",
       "      <td>7 Sterling Circuit, Camperdown NSW, Australia</td>\n",
       "      <td>1</td>\n",
       "    </tr>\n",
       "    <tr>\n",
       "      <th>1</th>\n",
       "      <td>17 HODDLE ST, PADDINGTON NSW 7071</td>\n",
       "      <td>2</td>\n",
       "    </tr>\n",
       "    <tr>\n",
       "      <th>2</th>\n",
       "      <td>1310/3 Kingsborough Way, Zetland NSW, Australia</td>\n",
       "      <td>3</td>\n",
       "    </tr>\n",
       "    <tr>\n",
       "      <th>3</th>\n",
       "      <td>94 Coventry Street, Southbank VIC, Australia</td>\n",
       "      <td>4</td>\n",
       "    </tr>\n",
       "    <tr>\n",
       "      <th>4</th>\n",
       "      <td>53 PARRAMATTA RD, ANNANDALE NSW 7033</td>\n",
       "      <td>5</td>\n",
       "    </tr>\n",
       "  </tbody>\n",
       "</table>\n",
       "</div>"
      ],
      "text/plain": [
       "                                           Address  customer_id\n",
       "0    7 Sterling Circuit, Camperdown NSW, Australia            1\n",
       "1                17 HODDLE ST, PADDINGTON NSW 7071            2\n",
       "2  1310/3 Kingsborough Way, Zetland NSW, Australia            3\n",
       "3     94 Coventry Street, Southbank VIC, Australia            4\n",
       "4             53 PARRAMATTA RD, ANNANDALE NSW 7033            5"
      ]
     },
     "execution_count": 2,
     "metadata": {},
     "output_type": "execute_result"
    }
   ],
   "source": [
    "## Loading the dataset\n",
    "df=pd.read_csv(\"Analyst_test.csv\")\n",
    "df.head()"
   ]
  },
  {
   "cell_type": "code",
   "execution_count": 3,
   "id": "89595864",
   "metadata": {},
   "outputs": [
    {
     "data": {
      "text/plain": [
       "(972, 2)"
      ]
     },
     "execution_count": 3,
     "metadata": {},
     "output_type": "execute_result"
    }
   ],
   "source": [
    "## Getting the shape \n",
    "df.shape"
   ]
  },
  {
   "cell_type": "code",
   "execution_count": 4,
   "id": "fc11c31f",
   "metadata": {},
   "outputs": [],
   "source": [
    "df['Street']=df['Address'].str.split(',').str[0] ## Getting the street Number\n",
    "df['city']=df['Address'].str.split(',').str[1] ## Getting the City and State Name\n",
    "df['Country']=df['Address'].str.split(',').str[2] ## GEtting the Country Name"
   ]
  },
  {
   "cell_type": "code",
   "execution_count": 5,
   "id": "5818024d",
   "metadata": {},
   "outputs": [
    {
     "data": {
      "text/html": [
       "<div>\n",
       "<style scoped>\n",
       "    .dataframe tbody tr th:only-of-type {\n",
       "        vertical-align: middle;\n",
       "    }\n",
       "\n",
       "    .dataframe tbody tr th {\n",
       "        vertical-align: top;\n",
       "    }\n",
       "\n",
       "    .dataframe thead th {\n",
       "        text-align: right;\n",
       "    }\n",
       "</style>\n",
       "<table border=\"1\" class=\"dataframe\">\n",
       "  <thead>\n",
       "    <tr style=\"text-align: right;\">\n",
       "      <th></th>\n",
       "      <th>Address</th>\n",
       "      <th>customer_id</th>\n",
       "      <th>Street</th>\n",
       "      <th>city</th>\n",
       "      <th>Country</th>\n",
       "    </tr>\n",
       "  </thead>\n",
       "  <tbody>\n",
       "    <tr>\n",
       "      <th>0</th>\n",
       "      <td>7 Sterling Circuit, Camperdown NSW, Australia</td>\n",
       "      <td>1</td>\n",
       "      <td>7 Sterling Circuit</td>\n",
       "      <td>Camperdown NSW</td>\n",
       "      <td>Australia</td>\n",
       "    </tr>\n",
       "    <tr>\n",
       "      <th>1</th>\n",
       "      <td>17 HODDLE ST, PADDINGTON NSW 7071</td>\n",
       "      <td>2</td>\n",
       "      <td>17 HODDLE ST</td>\n",
       "      <td>PADDINGTON NSW 7071</td>\n",
       "      <td>NaN</td>\n",
       "    </tr>\n",
       "    <tr>\n",
       "      <th>2</th>\n",
       "      <td>1310/3 Kingsborough Way, Zetland NSW, Australia</td>\n",
       "      <td>3</td>\n",
       "      <td>1310/3 Kingsborough Way</td>\n",
       "      <td>Zetland NSW</td>\n",
       "      <td>Australia</td>\n",
       "    </tr>\n",
       "    <tr>\n",
       "      <th>3</th>\n",
       "      <td>94 Coventry Street, Southbank VIC, Australia</td>\n",
       "      <td>4</td>\n",
       "      <td>94 Coventry Street</td>\n",
       "      <td>Southbank VIC</td>\n",
       "      <td>Australia</td>\n",
       "    </tr>\n",
       "    <tr>\n",
       "      <th>4</th>\n",
       "      <td>53 PARRAMATTA RD, ANNANDALE NSW 7033</td>\n",
       "      <td>5</td>\n",
       "      <td>53 PARRAMATTA RD</td>\n",
       "      <td>ANNANDALE NSW 7033</td>\n",
       "      <td>NaN</td>\n",
       "    </tr>\n",
       "  </tbody>\n",
       "</table>\n",
       "</div>"
      ],
      "text/plain": [
       "                                           Address  customer_id  \\\n",
       "0    7 Sterling Circuit, Camperdown NSW, Australia            1   \n",
       "1                17 HODDLE ST, PADDINGTON NSW 7071            2   \n",
       "2  1310/3 Kingsborough Way, Zetland NSW, Australia            3   \n",
       "3     94 Coventry Street, Southbank VIC, Australia            4   \n",
       "4             53 PARRAMATTA RD, ANNANDALE NSW 7033            5   \n",
       "\n",
       "                    Street                  city     Country  \n",
       "0       7 Sterling Circuit        Camperdown NSW   Australia  \n",
       "1             17 HODDLE ST   PADDINGTON NSW 7071         NaN  \n",
       "2  1310/3 Kingsborough Way           Zetland NSW   Australia  \n",
       "3       94 Coventry Street         Southbank VIC   Australia  \n",
       "4         53 PARRAMATTA RD    ANNANDALE NSW 7033         NaN  "
      ]
     },
     "execution_count": 5,
     "metadata": {},
     "output_type": "execute_result"
    }
   ],
   "source": [
    "df.head()"
   ]
  },
  {
   "cell_type": "code",
   "execution_count": 6,
   "id": "391e4e6c",
   "metadata": {},
   "outputs": [],
   "source": [
    "df['State']=df['city'].str.split(' ').str[2]  ## Getting the State Name\n",
    "df['City']=df['city'].str.split(' ').str[1]   ## Getting the City Name\n",
    "df['Postcode']=df['city'].str.split(' ').str[3]"
   ]
  },
  {
   "cell_type": "code",
   "execution_count": 7,
   "id": "b4d5d93b",
   "metadata": {},
   "outputs": [
    {
     "data": {
      "text/html": [
       "<div>\n",
       "<style scoped>\n",
       "    .dataframe tbody tr th:only-of-type {\n",
       "        vertical-align: middle;\n",
       "    }\n",
       "\n",
       "    .dataframe tbody tr th {\n",
       "        vertical-align: top;\n",
       "    }\n",
       "\n",
       "    .dataframe thead th {\n",
       "        text-align: right;\n",
       "    }\n",
       "</style>\n",
       "<table border=\"1\" class=\"dataframe\">\n",
       "  <thead>\n",
       "    <tr style=\"text-align: right;\">\n",
       "      <th></th>\n",
       "      <th>Address</th>\n",
       "      <th>customer_id</th>\n",
       "      <th>Street</th>\n",
       "      <th>city</th>\n",
       "      <th>Country</th>\n",
       "      <th>State</th>\n",
       "      <th>City</th>\n",
       "      <th>Postcode</th>\n",
       "    </tr>\n",
       "  </thead>\n",
       "  <tbody>\n",
       "    <tr>\n",
       "      <th>0</th>\n",
       "      <td>7 Sterling Circuit, Camperdown NSW, Australia</td>\n",
       "      <td>1</td>\n",
       "      <td>7 Sterling Circuit</td>\n",
       "      <td>Camperdown NSW</td>\n",
       "      <td>Australia</td>\n",
       "      <td>NSW</td>\n",
       "      <td>Camperdown</td>\n",
       "      <td>NaN</td>\n",
       "    </tr>\n",
       "    <tr>\n",
       "      <th>1</th>\n",
       "      <td>17 HODDLE ST, PADDINGTON NSW 7071</td>\n",
       "      <td>2</td>\n",
       "      <td>17 HODDLE ST</td>\n",
       "      <td>PADDINGTON NSW 7071</td>\n",
       "      <td>NaN</td>\n",
       "      <td>NSW</td>\n",
       "      <td>PADDINGTON</td>\n",
       "      <td>7071</td>\n",
       "    </tr>\n",
       "    <tr>\n",
       "      <th>2</th>\n",
       "      <td>1310/3 Kingsborough Way, Zetland NSW, Australia</td>\n",
       "      <td>3</td>\n",
       "      <td>1310/3 Kingsborough Way</td>\n",
       "      <td>Zetland NSW</td>\n",
       "      <td>Australia</td>\n",
       "      <td>NSW</td>\n",
       "      <td>Zetland</td>\n",
       "      <td>NaN</td>\n",
       "    </tr>\n",
       "    <tr>\n",
       "      <th>3</th>\n",
       "      <td>94 Coventry Street, Southbank VIC, Australia</td>\n",
       "      <td>4</td>\n",
       "      <td>94 Coventry Street</td>\n",
       "      <td>Southbank VIC</td>\n",
       "      <td>Australia</td>\n",
       "      <td>VIC</td>\n",
       "      <td>Southbank</td>\n",
       "      <td>NaN</td>\n",
       "    </tr>\n",
       "    <tr>\n",
       "      <th>4</th>\n",
       "      <td>53 PARRAMATTA RD, ANNANDALE NSW 7033</td>\n",
       "      <td>5</td>\n",
       "      <td>53 PARRAMATTA RD</td>\n",
       "      <td>ANNANDALE NSW 7033</td>\n",
       "      <td>NaN</td>\n",
       "      <td>NSW</td>\n",
       "      <td>ANNANDALE</td>\n",
       "      <td>7033</td>\n",
       "    </tr>\n",
       "  </tbody>\n",
       "</table>\n",
       "</div>"
      ],
      "text/plain": [
       "                                           Address  customer_id  \\\n",
       "0    7 Sterling Circuit, Camperdown NSW, Australia            1   \n",
       "1                17 HODDLE ST, PADDINGTON NSW 7071            2   \n",
       "2  1310/3 Kingsborough Way, Zetland NSW, Australia            3   \n",
       "3     94 Coventry Street, Southbank VIC, Australia            4   \n",
       "4             53 PARRAMATTA RD, ANNANDALE NSW 7033            5   \n",
       "\n",
       "                    Street                  city     Country State  \\\n",
       "0       7 Sterling Circuit        Camperdown NSW   Australia   NSW   \n",
       "1             17 HODDLE ST   PADDINGTON NSW 7071         NaN   NSW   \n",
       "2  1310/3 Kingsborough Way           Zetland NSW   Australia   NSW   \n",
       "3       94 Coventry Street         Southbank VIC   Australia   VIC   \n",
       "4         53 PARRAMATTA RD    ANNANDALE NSW 7033         NaN   NSW   \n",
       "\n",
       "         City Postcode  \n",
       "0  Camperdown      NaN  \n",
       "1  PADDINGTON     7071  \n",
       "2     Zetland      NaN  \n",
       "3   Southbank      NaN  \n",
       "4   ANNANDALE     7033  "
      ]
     },
     "execution_count": 7,
     "metadata": {},
     "output_type": "execute_result"
    }
   ],
   "source": [
    "df.head()"
   ]
  },
  {
   "cell_type": "code",
   "execution_count": 8,
   "id": "1f0b2d08",
   "metadata": {},
   "outputs": [
    {
     "data": {
      "text/plain": [
       "Address          0\n",
       "customer_id      0\n",
       "Street           0\n",
       "city             0\n",
       "Country        328\n",
       "State            6\n",
       "City             0\n",
       "Postcode       431\n",
       "dtype: int64"
      ]
     },
     "execution_count": 8,
     "metadata": {},
     "output_type": "execute_result"
    }
   ],
   "source": [
    "df.isnull().sum()"
   ]
  },
  {
   "cell_type": "code",
   "execution_count": 9,
   "id": "bb2600b4",
   "metadata": {},
   "outputs": [],
   "source": [
    "## Dropping the unnecessary columns\n",
    "\n",
    "col=[\"city\",'Address']\n",
    "df.drop(col,axis=1,inplace=True)"
   ]
  },
  {
   "cell_type": "code",
   "execution_count": 10,
   "id": "c74dd0bf",
   "metadata": {},
   "outputs": [
    {
     "data": {
      "text/html": [
       "<div>\n",
       "<style scoped>\n",
       "    .dataframe tbody tr th:only-of-type {\n",
       "        vertical-align: middle;\n",
       "    }\n",
       "\n",
       "    .dataframe tbody tr th {\n",
       "        vertical-align: top;\n",
       "    }\n",
       "\n",
       "    .dataframe thead th {\n",
       "        text-align: right;\n",
       "    }\n",
       "</style>\n",
       "<table border=\"1\" class=\"dataframe\">\n",
       "  <thead>\n",
       "    <tr style=\"text-align: right;\">\n",
       "      <th></th>\n",
       "      <th>customer_id</th>\n",
       "      <th>Street</th>\n",
       "      <th>Country</th>\n",
       "      <th>State</th>\n",
       "      <th>City</th>\n",
       "      <th>Postcode</th>\n",
       "    </tr>\n",
       "  </thead>\n",
       "  <tbody>\n",
       "    <tr>\n",
       "      <th>0</th>\n",
       "      <td>1</td>\n",
       "      <td>7 Sterling Circuit</td>\n",
       "      <td>Australia</td>\n",
       "      <td>NSW</td>\n",
       "      <td>Camperdown</td>\n",
       "      <td>NaN</td>\n",
       "    </tr>\n",
       "    <tr>\n",
       "      <th>1</th>\n",
       "      <td>2</td>\n",
       "      <td>17 HODDLE ST</td>\n",
       "      <td>NaN</td>\n",
       "      <td>NSW</td>\n",
       "      <td>PADDINGTON</td>\n",
       "      <td>7071</td>\n",
       "    </tr>\n",
       "    <tr>\n",
       "      <th>2</th>\n",
       "      <td>3</td>\n",
       "      <td>1310/3 Kingsborough Way</td>\n",
       "      <td>Australia</td>\n",
       "      <td>NSW</td>\n",
       "      <td>Zetland</td>\n",
       "      <td>NaN</td>\n",
       "    </tr>\n",
       "    <tr>\n",
       "      <th>3</th>\n",
       "      <td>4</td>\n",
       "      <td>94 Coventry Street</td>\n",
       "      <td>Australia</td>\n",
       "      <td>VIC</td>\n",
       "      <td>Southbank</td>\n",
       "      <td>NaN</td>\n",
       "    </tr>\n",
       "    <tr>\n",
       "      <th>4</th>\n",
       "      <td>5</td>\n",
       "      <td>53 PARRAMATTA RD</td>\n",
       "      <td>NaN</td>\n",
       "      <td>NSW</td>\n",
       "      <td>ANNANDALE</td>\n",
       "      <td>7033</td>\n",
       "    </tr>\n",
       "  </tbody>\n",
       "</table>\n",
       "</div>"
      ],
      "text/plain": [
       "   customer_id                   Street     Country State        City Postcode\n",
       "0            1       7 Sterling Circuit   Australia   NSW  Camperdown      NaN\n",
       "1            2             17 HODDLE ST         NaN   NSW  PADDINGTON     7071\n",
       "2            3  1310/3 Kingsborough Way   Australia   NSW     Zetland      NaN\n",
       "3            4       94 Coventry Street   Australia   VIC   Southbank      NaN\n",
       "4            5         53 PARRAMATTA RD         NaN   NSW   ANNANDALE     7033"
      ]
     },
     "execution_count": 10,
     "metadata": {},
     "output_type": "execute_result"
    }
   ],
   "source": [
    "df.head()"
   ]
  },
  {
   "cell_type": "code",
   "execution_count": 11,
   "id": "c3a36b0b",
   "metadata": {},
   "outputs": [],
   "source": [
    "df.to_csv('Solution_1')"
   ]
  },
  {
   "cell_type": "code",
   "execution_count": null,
   "id": "99ed6bb5",
   "metadata": {},
   "outputs": [],
   "source": []
  }
 ],
 "metadata": {
  "kernelspec": {
   "display_name": "Python 3",
   "language": "python",
   "name": "python3"
  },
  "language_info": {
   "codemirror_mode": {
    "name": "ipython",
    "version": 3
   },
   "file_extension": ".py",
   "mimetype": "text/x-python",
   "name": "python",
   "nbconvert_exporter": "python",
   "pygments_lexer": "ipython3",
   "version": "3.8.8"
  }
 },
 "nbformat": 4,
 "nbformat_minor": 5
}
